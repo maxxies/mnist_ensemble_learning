{
  "cells": [
    {
      "cell_type": "markdown",
      "metadata": {
        "id": "view-in-github",
        "colab_type": "text"
      },
      "source": [
        "<a href=\"https://colab.research.google.com/github/maxxies/mnist_ensemble_learning/blob/main/MNIST_ensemble_learning.ipynb\" target=\"_parent\"><img src=\"https://colab.research.google.com/assets/colab-badge.svg\" alt=\"Open In Colab\"/></a>"
      ]
    },
    {
      "cell_type": "code",
      "execution_count": 1,
      "metadata": {
        "id": "iXbHWbT2v9_i"
      },
      "outputs": [],
      "source": [
        "from sklearn.ensemble import RandomForestClassifier\n",
        "from sklearn.ensemble import VotingClassifier\n",
        "from sklearn.svm import SVC\n",
        "from sklearn.ensemble import ExtraTreesClassifier\n",
        "from sklearn.datasets import fetch_openml\n",
        "from sklearn.metrics import accuracy_score\n",
        "import numpy as np\n"
      ]
    },
    {
      "cell_type": "code",
      "execution_count": 2,
      "metadata": {
        "id": "c089NH_zwGV_"
      },
      "outputs": [],
      "source": [
        "# Fetching dataset\n",
        "mnist = fetch_openml('mnist_784', version=1)\n",
        "\n",
        "# Splitting dataset into data and target_value\n",
        "data = mnist['data']\n",
        "target = mnist['target']\n",
        "target = target.astype(np.uint8)  # Casting target to int"
      ]
    },
    {
      "cell_type": "code",
      "execution_count": 6,
      "metadata": {
        "id": "aDhncrsNwLUf"
      },
      "outputs": [],
      "source": [
        "# Splitting data into training set, testing set, validation set\n",
        "train_X, test_X, validation_X, train_y , test_y, validation_y = data[:50000], data[50000:60000], data[60000:], \\\n",
        "                                                               target[:50000], target[50000:60000], target[60000:]\n"
      ]
    },
    {
      "cell_type": "code",
      "execution_count": 4,
      "metadata": {
        "id": "d7Sl7OskwbG3"
      },
      "outputs": [],
      "source": [
        "# Training voting classifier with hard voting\n",
        "rf_clf = RandomForestClassifier()\n",
        "svm_clf = SVC()\n",
        "extraTree_clf = ExtraTreesClassifier()\n",
        "voting_clf = VotingClassifier(estimators=[('rf', rf_clf), ('svm', svm_clf), ('et', extraTree_clf)], voting='hard')\n"
      ]
    },
    {
      "cell_type": "code",
      "execution_count": 7,
      "metadata": {
        "colab": {
          "base_uri": "https://localhost:8080/"
        },
        "id": "RhcTLrLew92Q",
        "outputId": "f5aab17d-67cb-4a65-c09e-34763fd15b8a"
      },
      "outputs": [
        {
          "output_type": "stream",
          "name": "stdout",
          "text": [
            "Train set\n",
            "ExtraTreesClassifier 0.9744\n",
            "RandomForestClassifier 0.9736\n",
            "SVC 0.9802\n",
            "VotingClassifier 0.9774\n"
          ]
        }
      ],
      "source": [
        "# Accuracy scores of the predictors on train set\n",
        "print(\"Train set\")\n",
        "for clf in (extraTree_clf, rf_clf, svm_clf, voting_clf):\n",
        "    clf.fit(train_X, train_y)\n",
        "    y_pred = clf.predict(test_X)\n",
        "    print(clf.__class__.__name__, accuracy_score(test_y, y_pred))\n"
      ]
    },
    {
      "cell_type": "code",
      "source": [
        "# Accuracy scores of the predictors on validation set\n",
        "print(\"Validation set\")\n",
        "for clf in (extraTree_clf, rf_clf, svm_clf, voting_clf):\n",
        "    clf.fit(validation_X, validation_y)\n",
        "    y_pred = clf.predict(test_X)\n",
        "    print(clf.__class__.__name__, accuracy_score(test_y, y_pred))"
      ],
      "metadata": {
        "colab": {
          "base_uri": "https://localhost:8080/"
        },
        "id": "I6AG5ebs3PZG",
        "outputId": "4423a6c2-853c-4252-d1d9-8e4a571719b7"
      },
      "execution_count": 8,
      "outputs": [
        {
          "output_type": "stream",
          "name": "stdout",
          "text": [
            "Validation set\n",
            "ExtraTreesClassifier 0.9558\n",
            "RandomForestClassifier 0.9528\n",
            "SVC 0.964\n",
            "VotingClassifier 0.9611\n"
          ]
        }
      ]
    },
    {
      "cell_type": "code",
      "execution_count": 9,
      "metadata": {
        "id": "tRvQv2qYxzie"
      },
      "outputs": [],
      "source": [
        "# Training voting classifier with soft voting\n",
        "rf_clf = RandomForestClassifier()\n",
        "svm_clf = SVC(probability=True)\n",
        "extraTree_clf = ExtraTreesClassifier()\n",
        "voting_clf = VotingClassifier(estimators=[('rf', rf_clf), ('svm', svm_clf), ('et', extraTree_clf)], voting='soft')"
      ]
    },
    {
      "cell_type": "code",
      "source": [
        "# Accuracy scores of the predictors on train set\n",
        "print(\"Train set\")\n",
        "for clf in (extraTree_clf, rf_clf, svm_clf, voting_clf):\n",
        "    clf.fit(train_X, train_y)\n",
        "    y_pred = clf.predict(test_X)\n",
        "    print(clf.__class__.__name__, accuracy_score(test_y, y_pred))"
      ],
      "metadata": {
        "colab": {
          "base_uri": "https://localhost:8080/"
        },
        "id": "-gMHGtve3fO5",
        "outputId": "ff31cc0a-9b61-43ba-bb1e-c00f91f54436"
      },
      "execution_count": 10,
      "outputs": [
        {
          "output_type": "stream",
          "name": "stdout",
          "text": [
            "Train set\n",
            "ExtraTreesClassifier 0.9753\n",
            "RandomForestClassifier 0.9712\n",
            "SVC 0.9802\n",
            "VotingClassifier 0.9807\n"
          ]
        }
      ]
    },
    {
      "cell_type": "code",
      "execution_count": 11,
      "metadata": {
        "colab": {
          "base_uri": "https://localhost:8080/"
        },
        "id": "igIt9OV01jKb",
        "outputId": "32ac0403-3267-4135-fa32-c61d2363212c"
      },
      "outputs": [
        {
          "output_type": "stream",
          "name": "stdout",
          "text": [
            "Validation set\n",
            "ExtraTreesClassifier 0.9573\n",
            "RandomForestClassifier 0.9518\n",
            "SVC 0.964\n",
            "VotingClassifier 0.965\n"
          ]
        }
      ],
      "source": [
        "# Accuracy scores of the predictors on validation set\n",
        "print(\"Validation set\")\n",
        "for clf in (extraTree_clf, rf_clf, svm_clf, voting_clf):\n",
        "    clf.fit(validation_X, validation_y)\n",
        "    y_pred = clf.predict(test_X)\n",
        "    print(clf.__class__.__name__, accuracy_score(test_y, y_pred))\n"
      ]
    }
  ],
  "metadata": {
    "colab": {
      "collapsed_sections": [],
      "name": "Copy of MNIST_ensemble_learning.ipynb",
      "provenance": [],
      "include_colab_link": true
    },
    "kernelspec": {
      "display_name": "Python 3",
      "name": "python3"
    },
    "language_info": {
      "name": "python"
    }
  },
  "nbformat": 4,
  "nbformat_minor": 0
}