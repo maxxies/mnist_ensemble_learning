{
  "nbformat": 4,
  "nbformat_minor": 0,
  "metadata": {
    "colab": {
      "name": "MNIST_ensemble_learning.ipynb",
      "provenance": [],
      "collapsed_sections": [],
      "authorship_tag": "ABX9TyNb9ueD/sz6wEdsPOL25ly9",
      "include_colab_link": true
    },
    "kernelspec": {
      "name": "python3",
      "display_name": "Python 3"
    },
    "language_info": {
      "name": "python"
    }
  },
  "cells": [
    {
      "cell_type": "markdown",
      "metadata": {
        "id": "view-in-github",
        "colab_type": "text"
      },
      "source": [
        "<a href=\"https://colab.research.google.com/github/maxxies/mnist_ensemble_learning/blob/main/MNIST_ensemble_learning.ipynb\" target=\"_parent\"><img src=\"https://colab.research.google.com/assets/colab-badge.svg\" alt=\"Open In Colab\"/></a>"
      ]
    },
    {
      "cell_type": "code",
      "execution_count": 7,
      "metadata": {
        "id": "iXbHWbT2v9_i"
      },
      "outputs": [],
      "source": [
        "from sklearn.ensemble import RandomForestClassifier\n",
        "from sklearn.ensemble import VotingClassifier\n",
        "from sklearn.svm import SVC\n",
        "from sklearn.ensemble import ExtraTreesClassifier\n",
        "from sklearn.datasets import fetch_openml\n",
        "from sklearn.metrics import accuracy_score\n",
        "import numpy as np\n"
      ]
    },
    {
      "cell_type": "code",
      "source": [
        "# Fetching dataset\n",
        "mnist = fetch_openml('mnist_784', version=1)\n",
        "\n",
        "# Splitting dataset into data and target_value\n",
        "data = mnist['data']\n",
        "target = mnist['target']\n",
        "target = target.astype(np.uint8)  # Casting target to int"
      ],
      "metadata": {
        "id": "c089NH_zwGV_"
      },
      "execution_count": 2,
      "outputs": []
    },
    {
      "cell_type": "code",
      "source": [
        "# Splitting data into training set, testing set, validation set\n",
        "train_X, test_X, validation_X, train_y, test_y, validation_y = data[:60000], data[60000:70000], data[70000:], \\\n",
        "                                                               target[:60000], target[60000:70000], target[70000:]\n"
      ],
      "metadata": {
        "id": "aDhncrsNwLUf"
      },
      "execution_count": 5,
      "outputs": []
    },
    {
      "cell_type": "code",
      "source": [
        "# Training voting classifier with hard voting\n",
        "rf_clf = RandomForestClassifier()\n",
        "svm_clf = SVC()\n",
        "extraTree_clf = ExtraTreesClassifier()\n",
        "voting_clf = VotingClassifier(estimators=[('rf', rf_clf), ('svm', svm_clf), ('et', extraTree_clf)], voting='hard')\n"
      ],
      "metadata": {
        "id": "d7Sl7OskwbG3"
      },
      "execution_count": 6,
      "outputs": []
    },
    {
      "cell_type": "code",
      "source": [
        "# Accuracy scores of the predictors on train set\n",
        "print(\"Test set\")\n",
        "for clf in (extraTree_clf, rf_clf, svm_clf, voting_clf):\n",
        "    clf.fit(train_X, train_y)\n",
        "    y_pred = clf.predict(test_X)\n",
        "    print(clf.__class__.__name__, accuracy_score(test_y, y_pred))\n"
      ],
      "metadata": {
        "colab": {
          "base_uri": "https://localhost:8080/"
        },
        "id": "RhcTLrLew92Q",
        "outputId": "a9a0e2df-abf3-4fc7-c012-d21bc0aeeafd"
      },
      "execution_count": 8,
      "outputs": [
        {
          "output_type": "stream",
          "name": "stdout",
          "text": [
            "Test set\n",
            "ExtraTreesClassifier 0.9717\n",
            "RandomForestClassifier 0.9699\n",
            "SVC 0.9792\n",
            "VotingClassifier 0.9745\n"
          ]
        }
      ]
    },
    {
      "cell_type": "code",
      "source": [
        "# Training voting classifier with soft voting\n",
        "rf_clf = RandomForestClassifier()\n",
        "svm_clf = SVC(probability=True)\n",
        "extraTree_clf = ExtraTreesClassifier()\n",
        "voting_clf = VotingClassifier(estimators=[('rf', rf_clf), ('svm', svm_clf), ('et', extraTree_clf)], voting='soft')"
      ],
      "metadata": {
        "id": "tRvQv2qYxzie"
      },
      "execution_count": 11,
      "outputs": []
    },
    {
      "cell_type": "code",
      "source": [
        "# Accuracy scores of the predictors on train set\n",
        "print(\"Test set\")\n",
        "for clf in (extraTree_clf, rf_clf, svm_clf, voting_clf):\n",
        "    clf.fit(train_X, train_y)\n",
        "    y_pred = clf.predict(test_X)\n",
        "    print(clf.__class__.__name__, accuracy_score(test_y, y_pred))\n"
      ],
      "metadata": {
        "colab": {
          "base_uri": "https://localhost:8080/"
        },
        "id": "igIt9OV01jKb",
        "outputId": "dfca5458-22be-4b3e-c133-96b774b68e03"
      },
      "execution_count": null,
      "outputs": [
        {
          "metadata": {
            "tags": null
          },
          "name": "stdout",
          "output_type": "stream",
          "text": [
            "Test set\n",
            "ExtraTreesClassifier 0.9714\n",
            "RandomForestClassifier 0.9693\n"
          ]
        }
      ]
    },
    {
      "cell_type": "code",
      "source": [
        ""
      ],
      "metadata": {
        "id": "wvQzLGc_2b-L"
      },
      "execution_count": null,
      "outputs": []
    }
  ]
}